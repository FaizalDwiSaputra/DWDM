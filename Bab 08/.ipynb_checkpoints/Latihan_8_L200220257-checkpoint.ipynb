{
 "cells": [
  {
   "cell_type": "code",
   "execution_count": 1,
   "id": "332ba2f0-74c2-42e4-9df1-2430d5d2382e",
   "metadata": {},
   "outputs": [
    {
     "name": "stdout",
     "output_type": "stream",
     "text": [
      "Requirement already satisfied: scikit-learn in c:\\python\\lib\\site-packages (1.5.2)"
     ]
    },
    {
     "name": "stderr",
     "output_type": "stream",
     "text": [
      "\n",
      "[notice] A new release of pip is available: 24.2 -> 24.3.1\n",
      "[notice] To update, run: python.exe -m pip install --upgrade pip\n"
     ]
    },
    {
     "name": "stdout",
     "output_type": "stream",
     "text": [
      "\n",
      "Requirement already satisfied: numpy>=1.19.5 in c:\\python\\lib\\site-packages (from scikit-learn) (2.1.2)\n",
      "Requirement already satisfied: scipy>=1.6.0 in c:\\python\\lib\\site-packages (from scikit-learn) (1.14.1)\n",
      "Requirement already satisfied: joblib>=1.2.0 in c:\\python\\lib\\site-packages (from scikit-learn) (1.4.2)\n",
      "Requirement already satisfied: threadpoolctl>=3.1.0 in c:\\python\\lib\\site-packages (from scikit-learn) (3.5.0)\n",
      "Requirement already satisfied: missingno in c:\\python\\lib\\site-packages (0.5.2)\n",
      "Requirement already satisfied: numpy in c:\\python\\lib\\site-packages (from missingno) (2.1.2)\n",
      "Requirement already satisfied: matplotlib in c:\\python\\lib\\site-packages (from missingno) (3.9.2)\n",
      "Requirement already satisfied: scipy in c:\\python\\lib\\site-packages (from missingno) (1.14.1)\n",
      "Requirement already satisfied: seaborn in c:\\python\\lib\\site-packages (from missingno) (0.13.2)\n",
      "Requirement already satisfied: contourpy>=1.0.1 in c:\\python\\lib\\site-packages (from matplotlib->missingno) (1.3.0)\n",
      "Requirement already satisfied: cycler>=0.10 in c:\\python\\lib\\site-packages (from matplotlib->missingno) (0.12.1)\n",
      "Requirement already satisfied: fonttools>=4.22.0 in c:\\python\\lib\\site-packages (from matplotlib->missingno) (4.54.1)\n",
      "Requirement already satisfied: kiwisolver>=1.3.1 in c:\\python\\lib\\site-packages (from matplotlib->missingno) (1.4.7)\n",
      "Requirement already satisfied: packaging>=20.0 in c:\\python\\lib\\site-packages (from matplotlib->missingno) (24.1)\n",
      "Requirement already satisfied: pillow>=8 in c:\\python\\lib\\site-packages (from matplotlib->missingno) (10.4.0)\n",
      "Requirement already satisfied: pyparsing>=2.3.1 in c:\\python\\lib\\site-packages (from matplotlib->missingno) (3.2.0)\n",
      "Requirement already satisfied: python-dateutil>=2.7 in c:\\python\\lib\\site-packages (from matplotlib->missingno) (2.9.0.post0)\n",
      "Requirement already satisfied: pandas>=1.2 in c:\\python\\lib\\site-packages (from seaborn->missingno) (2.2.3)\n",
      "Requirement already satisfied: pytz>=2020.1 in c:\\python\\lib\\site-packages (from pandas>=1.2->seaborn->missingno) (2024.2)\n",
      "Requirement already satisfied: tzdata>=2022.7 in c:\\python\\lib\\site-packages (from pandas>=1.2->seaborn->missingno) (2024.1)\n",
      "Requirement already satisfied: six>=1.5 in c:\\python\\lib\\site-packages (from python-dateutil>=2.7->matplotlib->missingno) (1.16.0)\n"
     ]
    },
    {
     "name": "stderr",
     "output_type": "stream",
     "text": [
      "\n",
      "[notice] A new release of pip is available: 24.2 -> 24.3.1\n",
      "[notice] To update, run: python.exe -m pip install --upgrade pip\n"
     ]
    }
   ],
   "source": [
    "!pip install scikit-learn\n",
    "!pip install missingno"
   ]
  },
  {
   "cell_type": "raw",
   "id": "b6d2f140-0c7e-4004-84a4-9fe82996734e",
   "metadata": {},
   "source": [
    "import numpy as np\n",
    "import pandas as pd\n",
    "import matplotlib.pyplot as plt\n",
    "import seaborn as sns\n",
    "\n",
    "from sklearn.naive_bayes import GaussianNB\n",
    "from sklearn.metrics import classification_report, confusion_matrix, accuracy_score, precision_score, recall_score, f1_score"
   ]
  },
  {
   "cell_type": "code",
   "execution_count": 2,
   "id": "7e31818a-f9c6-432e-bf90-a641c19140c5",
   "metadata": {},
   "outputs": [
    {
     "ename": "NameError",
     "evalue": "name 'pd' is not defined",
     "output_type": "error",
     "traceback": [
      "\u001b[1;31m---------------------------------------------------------------------------\u001b[0m",
      "\u001b[1;31mNameError\u001b[0m                                 Traceback (most recent call last)",
      "Cell \u001b[1;32mIn[2], line 1\u001b[0m\n\u001b[1;32m----> 1\u001b[0m iris \u001b[38;5;241m=\u001b[39m \u001b[43mpd\u001b[49m\u001b[38;5;241m.\u001b[39mread_csv(\u001b[38;5;124m'\u001b[39m\u001b[38;5;124miris.csv\u001b[39m\u001b[38;5;124m'\u001b[39m)\n",
      "\u001b[1;31mNameError\u001b[0m: name 'pd' is not defined"
     ]
    }
   ],
   "source": [
    "iris = pd.read_csv('iris.csv')"
   ]
  },
  {
   "cell_type": "code",
   "execution_count": null,
   "id": "97ff000e-87ce-4040-b125-e79fe5f88ca1",
   "metadata": {},
   "outputs": [],
   "source": [
    "iris.head()"
   ]
  },
  {
   "cell_type": "code",
   "execution_count": null,
   "id": "12143899-59e0-4fd2-b0c5-3faa0bf935b4",
   "metadata": {},
   "outputs": [],
   "source": [
    "iris.shape"
   ]
  },
  {
   "cell_type": "code",
   "execution_count": null,
   "id": "19b2a86e-d794-4d77-b608-db1c1be04e58",
   "metadata": {},
   "outputs": [],
   "source": [
    "iris['Species'].unique()"
   ]
  },
  {
   "cell_type": "code",
   "execution_count": null,
   "id": "12bedf22-9fd2-439e-b610-dbbf512f0829",
   "metadata": {},
   "outputs": [],
   "source": [
    "iris.info()"
   ]
  },
  {
   "cell_type": "code",
   "execution_count": null,
   "id": "6eb59afb-a1c8-4f88-b575-807b138d9f59",
   "metadata": {},
   "outputs": [],
   "source": [
    "iris.drop(columns=\"Id\", inplace=True)\n",
    "iris.isnull().sum()"
   ]
  },
  {
   "cell_type": "code",
   "execution_count": null,
   "id": "58d94a6d-f490-40e0-ab63-974b01afa8df",
   "metadata": {},
   "outputs": [],
   "source": [
    "import missingno as msno\n",
    "msno.bar(iris, figsize=(8,6), color='skyblue')\n",
    "plt.show()"
   ]
  },
  {
   "cell_type": "code",
   "execution_count": null,
   "id": "8573a642-fa7c-4794-96f1-207bc836f8d1",
   "metadata": {},
   "outputs": [],
   "source": [
    "g = sns.relplot(x='SepalLengthCm', y='SepalWidthCm', data =iris, hue='Species', style='Species')\n",
    "g.fig.set_size_inches(10,5)\n",
    "plt.show()"
   ]
  },
  {
   "cell_type": "code",
   "execution_count": null,
   "id": "28c0e9cd-b57d-4e5e-b809-08fc350ae7d9",
   "metadata": {},
   "outputs": [],
   "source": [
    "numeric_columns = iris.select_dtypes(include = [\"float64\", \"int64\"]).columns\n",
    "correlation_matrix = iris[numeric_columns].corr()"
   ]
  },
  {
   "cell_type": "code",
   "execution_count": null,
   "id": "d632715f-04be-4f16-8f59-44312ab864c6",
   "metadata": {},
   "outputs": [],
   "source": [
    "sns.heatmap(correlation_matrix.corr(), annot = True, cmap = \"Greens\")\n",
    "plt.show()"
   ]
  },
  {
   "cell_type": "code",
   "execution_count": null,
   "id": "616bc0d0-4d55-47d4-80d8-5d66016c5ded",
   "metadata": {},
   "outputs": [],
   "source": [
    "x = iris.drop('Species', axis = 1)\n",
    "y = iris['Species']"
   ]
  },
  {
   "cell_type": "code",
   "execution_count": null,
   "id": "99043cda-31e2-4163-af05-76b512758342",
   "metadata": {},
   "outputs": [],
   "source": [
    "x"
   ]
  },
  {
   "cell_type": "code",
   "execution_count": null,
   "id": "13098278-52ab-4b26-80c9-699a26ef6b81",
   "metadata": {},
   "outputs": [],
   "source": [
    "y"
   ]
  },
  {
   "cell_type": "code",
   "execution_count": null,
   "id": "08acb561-41e9-447f-bc49-1a8ba81f7131",
   "metadata": {},
   "outputs": [],
   "source": [
    "from sklearn.preprocessing import LabelEncoder\n",
    "le = LabelEncoder()\n",
    "y = le.fit_transform(y)\n",
    "y"
   ]
  },
  {
   "cell_type": "code",
   "execution_count": null,
   "id": "192033a6-c647-4cba-b741-29ffca4952a7",
   "metadata": {},
   "outputs": [],
   "source": [
    "from sklearn.model_selection import train_test_split\n",
    "x_train, x_test, y_train, y_test = train_test_split(x, y, test_size = 0.2, random_state=0)\n",
    "\n",
    "print('The shape of X_train is : {}'.format(x_train.shape))\n",
    "print('The shape of X_test is : {}'.format(x_test.shape))\n",
    "print('The shape of y_train is : {}'.format(y_train.shape))\n",
    "print('The shape of y_test is : {}'.format(y_train.shape))\n"
   ]
  },
  {
   "cell_type": "code",
   "execution_count": null,
   "id": "bb6cf098-be4a-4459-9abe-d4293165ef5f",
   "metadata": {},
   "outputs": [],
   "source": [
    "model = GaussianNB()\n",
    "model.fit(x_train, y_train)"
   ]
  },
  {
   "cell_type": "code",
   "execution_count": null,
   "id": "61d51261-affc-4fab-98f6-0bb3a147d2f0",
   "metadata": {},
   "outputs": [],
   "source": [
    "pred_train = model.predict(x_train)\n",
    "cm = confusion_matrix(y_train, pred_train)\n",
    "\n",
    "# Confusion matrix\n",
    "print('Confusion matrix Naive Bayes\\n', cm)\n",
    "print('')\n",
    "\n",
    "# Akurasi\n",
    "print('Akurasi pada saat training: {}' .format(accuracy_score(y_train, pred_train)))"
   ]
  },
  {
   "cell_type": "code",
   "execution_count": null,
   "id": "9145d0bc-047b-4290-9d3d-e9f4d707144e",
   "metadata": {},
   "outputs": [],
   "source": []
  }
 ],
 "metadata": {
  "kernelspec": {
   "display_name": "Python 3 (ipykernel)",
   "language": "python",
   "name": "python3"
  },
  "language_info": {
   "codemirror_mode": {
    "name": "ipython",
    "version": 3
   },
   "file_extension": ".py",
   "mimetype": "text/x-python",
   "name": "python",
   "nbconvert_exporter": "python",
   "pygments_lexer": "ipython3",
   "version": "3.12.6"
  }
 },
 "nbformat": 4,
 "nbformat_minor": 5
}
